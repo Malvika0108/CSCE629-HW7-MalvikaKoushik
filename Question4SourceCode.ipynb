{
  "nbformat": 4,
  "nbformat_minor": 0,
  "metadata": {
    "colab": {
      "provenance": []
    },
    "kernelspec": {
      "name": "python3",
      "display_name": "Python 3"
    },
    "language_info": {
      "name": "python"
    }
  },
  "cells": [
    {
      "cell_type": "markdown",
      "source": [
        "Source Code - Question 4 Homework 7 CSCE 629\n",
        "\n",
        "\n",
        "Malvika Koushik"
      ],
      "metadata": {
        "id": "-oHfJcffgHGU"
      }
    },
    {
      "cell_type": "code",
      "execution_count": 1,
      "metadata": {
        "id": "oyAqPGSnfeWV"
      },
      "outputs": [],
      "source": [
        "import heapq\n",
        "import collections"
      ]
    },
    {
      "cell_type": "code",
      "source": [
        "def dijkstra(graph, start_node):\n",
        "    distances = collections.defaultdict(lambda: float('inf'))\n",
        "    distances[start_node] = 0\n",
        "    pq = [(0, start_node)]\n",
        "\n",
        "    visited = set()\n",
        "\n",
        "    while pq:\n",
        "        current_distance, current_node = heapq.heappop(pq)\n",
        "        if current_node in visited:\n",
        "            continue\n",
        "        visited.add(current_node)\n",
        "        if current_node in graph:\n",
        "            for neighbor, weight in graph[current_node]:\n",
        "                if neighbor in visited:\n",
        "                    continue\n",
        "\n",
        "                new_distance = current_distance + weight\n",
        "\n",
        "                if new_distance < distances[neighbor]:\n",
        "                    distances[neighbor] = new_distance\n",
        "                    heapq.heappush(pq, (new_distance, neighbor))\n",
        "\n",
        "    return distances"
      ],
      "metadata": {
        "id": "D1DZYjjofh1d"
      },
      "execution_count": 2,
      "outputs": []
    },
    {
      "cell_type": "code",
      "source": [
        "edges = [\n",
        "    (14, 15, 1), (14, 20, 1), (14, 16, 1), (14, 13, 2),\n",
        "    (20, 21, 2), (20, 22, 1), (16, 17, 1), (13, 12, 2),\n",
        "    (13, 21, 1), (21, 22, 2), (21, 2, 1), (22, 5, 1),\n",
        "    (17, 18, 2), (17, 11, 1), (11, 12, 2), (2, 3, 1),\n",
        "    (2, 1, 1), (5, 7, 1), (5, 6, 2), (5, 4, 1),\n",
        "    (18, 19, 2), (18, 10, 2), (11, 1, 1), (11, 10, 1),\n",
        "    (3, 8, 2), (3, 4, 1), (7, 8, 1), (7, 6, 2),\n",
        "    (19, 9, 1), (10, 9, 1), (9, 8, 1)\n",
        "]"
      ],
      "metadata": {
        "id": "2wWsw4SzflZT"
      },
      "execution_count": 3,
      "outputs": []
    },
    {
      "cell_type": "code",
      "source": [
        "graph = collections.defaultdict(list)\n",
        "all_nodes = set()\n",
        "for u, v, w in edges:\n",
        "    graph[u].append((v, w))\n",
        "    graph[v].append((u, w))\n",
        "    all_nodes.add(u)\n",
        "    all_nodes.add(v)"
      ],
      "metadata": {
        "id": "WODmabLZf2nG"
      },
      "execution_count": 4,
      "outputs": []
    },
    {
      "cell_type": "code",
      "source": [
        "source_node = 1\n",
        "target_destinations = {6, 8, 9, 15, 16, 22}\n",
        "shortest_paths = dijkstra(graph, source_node)"
      ],
      "metadata": {
        "id": "_7mck9tqf6CI"
      },
      "execution_count": 5,
      "outputs": []
    },
    {
      "cell_type": "code",
      "source": [
        "print(\"--- Shortest Distances from Node 1 ---\")\n",
        "results = {}\n",
        "for node in target_destinations:\n",
        "    distance = shortest_paths[node]\n",
        "    results[node] = distance\n",
        "    print(f\"Destination Node {node}: Distance = {distance}\")"
      ],
      "metadata": {
        "colab": {
          "base_uri": "https://localhost:8080/"
        },
        "id": "3th61DHlf9Eq",
        "outputId": "04225a66-a116-4617-a7eb-cf0cf3754f94"
      },
      "execution_count": 6,
      "outputs": [
        {
          "output_type": "stream",
          "name": "stdout",
          "text": [
            "--- Shortest Distances from Node 1 ---\n",
            "Destination Node 16: Distance = 3\n",
            "Destination Node 6: Distance = 6\n",
            "Destination Node 22: Distance = 4\n",
            "Destination Node 8: Distance = 4\n",
            "Destination Node 9: Distance = 3\n",
            "Destination Node 15: Distance = 5\n"
          ]
        }
      ]
    },
    {
      "cell_type": "code",
      "source": [
        "min_distance = float('inf')\n",
        "most_likely_nodes = []\n",
        "\n",
        "for node, distance in results.items():\n",
        "    if distance < min_distance:\n",
        "        min_distance = distance\n",
        "        most_likely_nodes = [node]\n",
        "    elif distance == min_distance:\n",
        "        most_likely_nodes.append(node)"
      ],
      "metadata": {
        "id": "lKpuU1gJgAN9"
      },
      "execution_count": 7,
      "outputs": []
    },
    {
      "cell_type": "code",
      "source": [
        "print(f\"The most likely destinations (lowest weight) have a distance of: {min_distance}\")\n",
        "print(f\"The police should prioritize roadblocks at: Node(s) {most_likely_nodes}\")"
      ],
      "metadata": {
        "colab": {
          "base_uri": "https://localhost:8080/"
        },
        "id": "TEoRCbE1gCyB",
        "outputId": "4b8d2ecd-c1ee-40dd-ffed-f25aabe8ebeb"
      },
      "execution_count": 8,
      "outputs": [
        {
          "output_type": "stream",
          "name": "stdout",
          "text": [
            "The most likely destinations (lowest weight) have a distance of: 3\n",
            "The police should prioritize roadblocks at: Node(s) [16, 9]\n"
          ]
        }
      ]
    }
  ]
}